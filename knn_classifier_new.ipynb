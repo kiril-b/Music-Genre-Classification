{
 "cells": [
  {
   "cell_type": "code",
   "execution_count": 13,
   "metadata": {},
   "outputs": [],
   "source": [
    "import pandas as pd\n",
    "import seaborn as sns\n",
    "import matplotlib.pyplot as plt\n",
    "\n",
    "from sklearn.neighbors import KNeighborsClassifier\n",
    "from sklearn.preprocessing import MinMaxScaler\n",
    "from sklearn.metrics import pairwise_distances\n",
    "\n",
    "import utils.datasets_utils as datasets_utils\n",
    "import utils.classification_utils as classification_utils\n",
    "\n",
    "sns.set_palette(\"Set2\")\n",
    "sns.set_style(\"whitegrid\")"
   ]
  },
  {
   "cell_type": "markdown",
   "metadata": {},
   "source": [
    "We will experiment with spectral_modified (bc irrelevant attributes add noise in the proximity measure and redundant attributes add bias towards certain attributes) with cosine distance (bc of high dimensionality) and umap_modified with euclidean distance (15 dimensions)"
   ]
  },
  {
   "cell_type": "code",
   "execution_count": 5,
   "metadata": {},
   "outputs": [],
   "source": [
    "datasets = datasets_utils.load_datasets()\n",
    "sub_datasets = filter(lambda x: x.name in {'spectral_modified', 'umap_modified'}, datasets)\n",
    "datasets_wrapper = datasets_utils.DatasetsWrapper(sub_datasets)"
   ]
  },
  {
   "cell_type": "code",
   "execution_count": 6,
   "metadata": {},
   "outputs": [
    {
     "data": {
      "text/html": [
       "<div>\n",
       "<style scoped>\n",
       "    .dataframe tbody tr th:only-of-type {\n",
       "        vertical-align: middle;\n",
       "    }\n",
       "\n",
       "    .dataframe tbody tr th {\n",
       "        vertical-align: top;\n",
       "    }\n",
       "\n",
       "    .dataframe thead th {\n",
       "        text-align: right;\n",
       "    }\n",
       "</style>\n",
       "<table border=\"1\" class=\"dataframe\">\n",
       "  <thead>\n",
       "    <tr style=\"text-align: right;\">\n",
       "      <th></th>\n",
       "      <th>train_X</th>\n",
       "      <th>val_X</th>\n",
       "      <th>test_X</th>\n",
       "      <th>train_y</th>\n",
       "      <th>val_y</th>\n",
       "      <th>test_y</th>\n",
       "    </tr>\n",
       "  </thead>\n",
       "  <tbody>\n",
       "    <tr>\n",
       "      <th>spectral_modified</th>\n",
       "      <td>(23114, 189)</td>\n",
       "      <td>(2397, 189)</td>\n",
       "      <td>(5993, 189)</td>\n",
       "      <td>(23114,)</td>\n",
       "      <td>(2397,)</td>\n",
       "      <td>(5993,)</td>\n",
       "    </tr>\n",
       "    <tr>\n",
       "      <th>umap_modified</th>\n",
       "      <td>(23114, 15)</td>\n",
       "      <td>(2397, 15)</td>\n",
       "      <td>(5993, 15)</td>\n",
       "      <td>(23114,)</td>\n",
       "      <td>(2397,)</td>\n",
       "      <td>(5993,)</td>\n",
       "    </tr>\n",
       "  </tbody>\n",
       "</table>\n",
       "</div>"
      ],
      "text/plain": [
       "                        train_X        val_X       test_X   train_y    val_y  \\\n",
       "spectral_modified  (23114, 189)  (2397, 189)  (5993, 189)  (23114,)  (2397,)   \n",
       "umap_modified       (23114, 15)   (2397, 15)   (5993, 15)  (23114,)  (2397,)   \n",
       "\n",
       "                    test_y  \n",
       "spectral_modified  (5993,)  \n",
       "umap_modified      (5993,)  "
      ]
     },
     "execution_count": 6,
     "metadata": {},
     "output_type": "execute_result"
    }
   ],
   "source": [
    "datasets_wrapper.get_shapes()"
   ]
  },
  {
   "cell_type": "markdown",
   "metadata": {},
   "source": [
    "Since we will be using the Euclidean distance, brining the features of the dataset to the same scale is required"
   ]
  },
  {
   "cell_type": "code",
   "execution_count": 8,
   "metadata": {},
   "outputs": [],
   "source": [
    "scaler = MinMaxScaler()\n",
    "datasets_wrapper.scale_datasets(scaler=scaler)"
   ]
  },
  {
   "cell_type": "markdown",
   "metadata": {},
   "source": [
    "# 1. KNN on Spectral Featres - Dataset"
   ]
  },
  {
   "cell_type": "code",
   "execution_count": 11,
   "metadata": {},
   "outputs": [],
   "source": [
    "spectral_dataset = datasets_wrapper.get_dataset('spectral_modified')"
   ]
  },
  {
   "cell_type": "markdown",
   "metadata": {},
   "source": [
    "The Genre 'Easy Listening' is underrepresented (only 12 tracks belong to this genre) and hence the $k$ parameter in our KNN classifier should roughly be around $10$.\n",
    "We will experiment with different values"
   ]
  },
  {
   "cell_type": "code",
   "execution_count": 12,
   "metadata": {},
   "outputs": [
    {
     "data": {
      "text/plain": [
       "(genre, Unnamed: 253_level_1, Unnamed: 253_level_2)\n",
       "Easy Listening     15\n",
       "Blues             200\n",
       "Spoken            200\n",
       "Name: count, dtype: int64"
      ]
     },
     "execution_count": 12,
     "metadata": {},
     "output_type": "execute_result"
    }
   ],
   "source": [
    "spectral_dataset.train.y.value_counts().sort_values()[:3]"
   ]
  },
  {
   "cell_type": "markdown",
   "metadata": {},
   "source": [
    "We will precompute the distances, to be able to experiment with different hyperparameters more efficiently"
   ]
  },
  {
   "cell_type": "code",
   "execution_count": 14,
   "metadata": {},
   "outputs": [],
   "source": [
    "def calculate_distances(X, metric):\n",
    "    return pd.DataFrame(pairwise_distances(X, metric=metric, n_jobs=5), index=X.index, columns=X.index)"
   ]
  },
  {
   "cell_type": "code",
   "execution_count": null,
   "metadata": {},
   "outputs": [],
   "source": [
    "spectral_train_distances = calculate_distances(spectral_dataset.train.X, metric='cosine')"
   ]
  },
  {
   "cell_type": "code",
   "execution_count": null,
   "metadata": {},
   "outputs": [],
   "source": [
    "spectral_val_distances = calculate_distances(spectral_dataset.val.X, metric='cosine')"
   ]
  },
  {
   "cell_type": "code",
   "execution_count": null,
   "metadata": {},
   "outputs": [],
   "source": [
    "spectral_test_distances = calculate_distances(spectral_dataset.test.X, metric='cosine')"
   ]
  },
  {
   "cell_type": "code",
   "execution_count": null,
   "metadata": {},
   "outputs": [],
   "source": [
    "spectral_distances_dataset = datasets_utils.create_dataset(\n",
    "    name='spectral_distances_dataset',\n",
    "    train_X=spectral_train_distances, train_y=spectral_dataset.train.y,\n",
    "    val_X=spectral_val_distances, val_y=spectral_dataset.val.y,\n",
    "    test_X=spectral_test_distances, test_y=spectral_dataset.test.y\n",
    ")"
   ]
  },
  {
   "cell_type": "code",
   "execution_count": null,
   "metadata": {},
   "outputs": [],
   "source": [
    "spectral_classifiers_list = list()\n",
    "for i in range(7, 17):\n",
    "    spectral_classifiers_list.append(\n",
    "        classification_utils.ClassifierFactory.create_instance(\n",
    "            dataset=spectral_distances_dataset,\n",
    "            classifier=KNeighborsClassifier(n_neighbors=i, weights='distance', algorithm='kd_tree', metric='precomputed'),\n",
    "        )\n",
    "    )\n",
    "\n",
    "\n",
    "spectral_classifiers = classification_utils.ClassifiersCollection(spectral_classifiers_list)"
   ]
  },
  {
   "cell_type": "code",
   "execution_count": null,
   "metadata": {},
   "outputs": [],
   "source": [
    "spectral_classifiers.fit_classifiers()"
   ]
  },
  {
   "cell_type": "code",
   "execution_count": null,
   "metadata": {},
   "outputs": [],
   "source": [
    "for classifier in spectral_classifiers.get_all_classifiers():\n",
    "    pass"
   ]
  }
 ],
 "metadata": {
  "kernelspec": {
   "display_name": ".venv",
   "language": "python",
   "name": "python3"
  },
  "language_info": {
   "codemirror_mode": {
    "name": "ipython",
    "version": 3
   },
   "file_extension": ".py",
   "mimetype": "text/x-python",
   "name": "python",
   "nbconvert_exporter": "python",
   "pygments_lexer": "ipython3",
   "version": "3.11.0"
  },
  "orig_nbformat": 4
 },
 "nbformat": 4,
 "nbformat_minor": 2
}
